{
  "nbformat": 4,
  "nbformat_minor": 0,
  "metadata": {
    "colab": {
      "provenance": [],
      "collapsed_sections": [
        "Qqxlv_BaiBcI",
        "SPIHMjcoiOBs",
        "jV3-z6HgirRX"
      ],
      "include_colab_link": true
    },
    "kernelspec": {
      "name": "python3",
      "display_name": "Python 3"
    },
    "language_info": {
      "name": "python"
    }
  },
  "cells": [
    {
      "cell_type": "markdown",
      "metadata": {
        "id": "view-in-github",
        "colab_type": "text"
      },
      "source": [
        "<a href=\"https://colab.research.google.com/github/itsmeshivam01/fullstackjs/blob/main/Python_Questions.ipynb\" target=\"_parent\"><img src=\"https://colab.research.google.com/assets/colab-badge.svg\" alt=\"Open In Colab\"/></a>"
      ]
    },
    {
      "cell_type": "markdown",
      "source": [
        "## **Print the name of all the files in current directory recursively [ 3 runs, 3 Mins ]**"
      ],
      "metadata": {
        "id": "Qqxlv_BaiBcI"
      }
    },
    {
      "cell_type": "code",
      "source": [],
      "metadata": {
        "id": "mXyhxhMJiNFg"
      },
      "execution_count": null,
      "outputs": []
    },
    {
      "cell_type": "markdown",
      "source": [
        "## **For the below list, bring the expected output using List comprehension [ 2 runs, 1.5 Mins ]**"
      ],
      "metadata": {
        "id": "SPIHMjcoiOBs"
      }
    },
    {
      "cell_type": "code",
      "source": [
        "a_list=[[1,2,3], [4,5,6], [7,8,9]]\n",
        "\n",
        "# expected o/p [1,3,5,7,9]"
      ],
      "metadata": {
        "id": "RRExmBg3ieoz"
      },
      "execution_count": null,
      "outputs": []
    },
    {
      "cell_type": "markdown",
      "source": [
        "## **Zip the below file to file.zip, then unzip to file.csv [ 3 runs, 4 Mins ]**"
      ],
      "metadata": {
        "id": "jV3-z6HgirRX"
      }
    },
    {
      "cell_type": "code",
      "source": [
        "a_file='/content/sample_data/mnist_test.csv'\n"
      ],
      "metadata": {
        "id": "sbN3twB3irRY"
      },
      "execution_count": null,
      "outputs": []
    },
    {
      "cell_type": "code",
      "source": [],
      "metadata": {
        "id": "YAYuYudti-FX"
      },
      "execution_count": null,
      "outputs": []
    },
    {
      "cell_type": "code",
      "source": [],
      "metadata": {
        "id": "okj-XUDCi-Cm"
      },
      "execution_count": null,
      "outputs": []
    },
    {
      "cell_type": "markdown",
      "source": [
        "# **Read the csv and get the following answers**"
      ],
      "metadata": {
        "id": "0XqfTPInjAde"
      }
    },
    {
      "cell_type": "code",
      "source": [
        "file='/content/sample_data/california_housing_test.csv'"
      ],
      "metadata": {
        "id": "mIbNPHyxjN_J"
      },
      "execution_count": null,
      "outputs": []
    },
    {
      "cell_type": "markdown",
      "source": [
        "**Find the records where total rooms is greater than 500 and median_house_value is less than 67000 [2 runs, 1.5 mins ]**"
      ],
      "metadata": {
        "id": "3MNhHtByjrMd"
      }
    },
    {
      "cell_type": "code",
      "source": [],
      "metadata": {
        "id": "BV_3nPz3jp4Y"
      },
      "execution_count": null,
      "outputs": []
    },
    {
      "cell_type": "code",
      "source": [],
      "metadata": {
        "id": "ZjmN3a1LjpDo"
      },
      "execution_count": null,
      "outputs": []
    },
    {
      "cell_type": "markdown",
      "source": [
        "**Convert all the columns to capital case  [2 runs, 2 mins ]**"
      ],
      "metadata": {
        "id": "e3KlbC3alHE-"
      }
    },
    {
      "cell_type": "code",
      "source": [],
      "metadata": {
        "id": "K45kpitcjbSY"
      },
      "execution_count": null,
      "outputs": []
    },
    {
      "cell_type": "code",
      "source": [],
      "metadata": {
        "id": "KSc6R8IXlbdq"
      },
      "execution_count": null,
      "outputs": []
    },
    {
      "cell_type": "markdown",
      "source": [
        "**Convert median_income to Int using Lambda and map  [3 runs, 3 mins ]**"
      ],
      "metadata": {
        "id": "pxrQe3DDlPDF"
      }
    },
    {
      "cell_type": "code",
      "source": [],
      "metadata": {
        "id": "bj870aMolZXb"
      },
      "execution_count": null,
      "outputs": []
    },
    {
      "cell_type": "code",
      "source": [],
      "metadata": {
        "id": "Da_8G_R5VCf3"
      },
      "execution_count": null,
      "outputs": []
    },
    {
      "cell_type": "markdown",
      "source": [
        "**Filter the df for rows where house_median_age values are from below list**"
      ],
      "metadata": {
        "id": "CD3C0Ok9U3kK"
      }
    },
    {
      "cell_type": "code",
      "source": [
        "med_age=[27.0,43.0,28.0]"
      ],
      "metadata": {
        "id": "OEgdYrfJVCKD"
      },
      "execution_count": null,
      "outputs": []
    }
  ]
}